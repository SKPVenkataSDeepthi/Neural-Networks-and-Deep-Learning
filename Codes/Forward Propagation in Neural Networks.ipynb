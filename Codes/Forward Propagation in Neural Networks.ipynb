{
 "cells": [
  {
   "cell_type": "code",
   "execution_count": 1,
   "id": "e89688ed-f217-44e6-881c-99019150d9f5",
   "metadata": {},
   "outputs": [],
   "source": [
    "# Example 1 - Ref. GeeksforGeeks"
   ]
  },
  {
   "cell_type": "code",
   "execution_count": 2,
   "id": "031a89b9-e8a8-4edc-9478-5783d4a0d088",
   "metadata": {},
   "outputs": [
    {
     "name": "stdout",
     "output_type": "stream",
     "text": [
      "Final output:\n",
      "[[0.32]]\n"
     ]
    }
   ],
   "source": [
    "import numpy as np\n",
    "import pandas as pd\n",
    "\n",
    "# Creating a dataset\n",
    "df = pd.DataFrame([[8, 8, 4], [7, 9, 5], [6, 10, 6], [5, 12, 7]], columns=['cgpa', 'profile_score', 'lpa'])\n",
    "\n",
    "# Initializing parameters\n",
    "def initialize_parameters(layer_dims):\n",
    "    np.random.seed(3)\n",
    "    parameters = {}\n",
    "    L = len(layer_dims)\n",
    "    for i in range(1, L):\n",
    "        parameters['W' + str(i)] = np.ones((layer_dims[i-1], layer_dims[i])) * 0.1\n",
    "        parameters['b' + str(i)] = np.zeros((layer_dims[i], 1))\n",
    "    return parameters\n",
    "\n",
    "# Forward propagation\n",
    "def linear_forward(A_prev, W, b):\n",
    "    Z = np.dot(W.T, A_prev) + b\n",
    "    return Z\n",
    "\n",
    "def relu(Z):\n",
    "    return np.maximum(0, Z)\n",
    "\n",
    "def L_layer_forward(X, parameters):\n",
    "    A = X\n",
    "    caches = []\n",
    "    L = len(parameters) // 2\n",
    "    for i in range(1, L):\n",
    "        A_prev = A\n",
    "        W = parameters['W' + str(i)]\n",
    "        b = parameters['b' + str(i)]\n",
    "        Z = linear_forward(A_prev, W, b)\n",
    "        A = relu(Z)\n",
    "        cache = (A_prev, W, b, Z)\n",
    "        caches.append(cache)\n",
    "\n",
    "    # Output layer\n",
    "    W_out = parameters['W' + str(L)]\n",
    "    b_out = parameters['b' + str(L)]\n",
    "    Z_out = linear_forward(A, W_out, b_out)\n",
    "    AL = Z_out\n",
    "\n",
    "    return AL, caches\n",
    "\n",
    "# Example execution\n",
    "X = df[['cgpa', 'profile_score']].values[0].reshape(2, 1)\n",
    "parameters = initialize_parameters([2, 2, 1])\n",
    "y_hat, caches = L_layer_forward(X, parameters)\n",
    "print(\"Final output:\")\n",
    "print(y_hat)"
   ]
  },
  {
   "cell_type": "code",
   "execution_count": 3,
   "id": "3942caae-c0d2-4ebb-900d-4dab8b0fb6e2",
   "metadata": {},
   "outputs": [],
   "source": [
    "# Example 2 - Personalized Model Demonstration"
   ]
  },
  {
   "cell_type": "code",
   "execution_count": 4,
   "id": "165134e9-7516-46da-b604-1f9980729842",
   "metadata": {},
   "outputs": [
    {
     "name": "stdout",
     "output_type": "stream",
     "text": [
      "Predicted house price:\n",
      "[[45.09]]\n"
     ]
    }
   ],
   "source": [
    "import numpy as np\n",
    "import pandas as pd\n",
    "\n",
    "# Creating a dataset for house price prediction\n",
    "df = pd.DataFrame([[3, 1500, 400000], [2, 800, 250000], [4, 2000, 500000], [3, 1200, 350000]],\n",
    "                  columns=['bedrooms', 'square_footage', 'price'])\n",
    "\n",
    "# Initializing parameters for the neural network\n",
    "def initialize_parameters(layer_dims):\n",
    "    np.random.seed(3)\n",
    "    parameters = {}\n",
    "    L = len(layer_dims)\n",
    "    for i in range(1, L):\n",
    "        parameters['W' + str(i)] = np.ones((layer_dims[i-1], layer_dims[i])) * 0.1\n",
    "        parameters['b' + str(i)] = np.zeros((layer_dims[i], 1))\n",
    "    return parameters\n",
    "\n",
    "# Forward propagation functions\n",
    "def linear_forward(A_prev, W, b):\n",
    "    Z = np.dot(W.T, A_prev) + b\n",
    "    return Z\n",
    "\n",
    "def relu(Z):\n",
    "    return np.maximum(0, Z)\n",
    "\n",
    "def L_layer_forward(X, parameters):\n",
    "    A = X\n",
    "    caches = []\n",
    "    L = len(parameters) // 2\n",
    "    for i in range(1, L):\n",
    "        A_prev = A\n",
    "        W = parameters['W' + str(i)]\n",
    "        b = parameters['b' + str(i)]\n",
    "        Z = linear_forward(A_prev, W, b)\n",
    "        A = relu(Z)\n",
    "        cache = (A_prev, W, b, Z)\n",
    "        caches.append(cache)\n",
    "\n",
    "    # Output layer\n",
    "    W_out = parameters['W' + str(L)]\n",
    "    b_out = parameters['b' + str(L)]\n",
    "    Z_out = linear_forward(A, W_out, b_out)\n",
    "    AL = Z_out\n",
    "\n",
    "    return AL, caches\n",
    "\n",
    "# Example execution for house price prediction\n",
    "X = df[['bedrooms', 'square_footage']].values[0].reshape(2, 1)  # Features: bedrooms and square footage\n",
    "parameters = initialize_parameters([2, 3, 1])  # Neural network with 2 input features, 3 hidden units, 1 output\n",
    "y_hat, caches = L_layer_forward(X, parameters)\n",
    "\n",
    "print(\"Predicted house price:\")\n",
    "print(y_hat)\n"
   ]
  },
  {
   "cell_type": "code",
   "execution_count": null,
   "id": "3e0e9c2b-5cc7-486c-bac2-0a96218cb1b2",
   "metadata": {},
   "outputs": [],
   "source": []
  }
 ],
 "metadata": {
  "kernelspec": {
   "display_name": "Python 3 (ipykernel)",
   "language": "python",
   "name": "python3"
  },
  "language_info": {
   "codemirror_mode": {
    "name": "ipython",
    "version": 3
   },
   "file_extension": ".py",
   "mimetype": "text/x-python",
   "name": "python",
   "nbconvert_exporter": "python",
   "pygments_lexer": "ipython3",
   "version": "3.12.2"
  }
 },
 "nbformat": 4,
 "nbformat_minor": 5
}
