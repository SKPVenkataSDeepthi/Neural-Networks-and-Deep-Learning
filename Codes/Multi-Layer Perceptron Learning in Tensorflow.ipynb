{
 "cells": [
  {
   "cell_type": "code",
   "execution_count": 2,
   "id": "1c7ffa0c-6d0b-4d5e-8ffb-c6043d22db3b",
   "metadata": {},
   "outputs": [],
   "source": [
    "# importing modules \n",
    "import tensorflow as tf \n",
    "import numpy as np \n",
    "from tensorflow.keras.models import Sequential \n",
    "from tensorflow.keras.layers import Flatten \n",
    "from tensorflow.keras.layers import Dense \n",
    "from tensorflow.keras.layers import Activation \n",
    "import matplotlib.pyplot as plt \n"
   ]
  },
  {
   "cell_type": "code",
   "execution_count": 4,
   "id": "4c78999a-1b7a-4b04-b5a5-51e533b8d3aa",
   "metadata": {},
   "outputs": [],
   "source": [
    "## Downloading the dataset\n",
    "\n",
    "(x_train, y_train), (x_test, y_test) = tf.keras.datasets.mnist.load_data() \n"
   ]
  },
  {
   "cell_type": "code",
   "execution_count": 6,
   "id": "76055bab-401b-415e-bf9a-fe75f5eb77d0",
   "metadata": {},
   "outputs": [],
   "source": [
    "## Converting the pixels to the floating point values\n",
    "# Cast the records into float values \n",
    "x_train = x_train.astype('float32') \n",
    "x_test = x_test.astype('float32') \n",
    "\n",
    "# normalize image pixel values by dividing \n",
    "# by 255 \n",
    "gray_scale = 255\n",
    "x_train /= gray_scale \n",
    "x_test /= gray_scale \n"
   ]
  },
  {
   "cell_type": "code",
   "execution_count": 8,
   "id": "a6d1ef95-f1d4-4c51-a449-83882ec9d913",
   "metadata": {},
   "outputs": [
    {
     "name": "stdout",
     "output_type": "stream",
     "text": [
      "Feature matrix: (60000, 28, 28)\n",
      "Target matrix: (10000, 28, 28)\n",
      "Feature matrix: (60000,)\n",
      "Target matrix: (10000,)\n"
     ]
    }
   ],
   "source": [
    "### Getting the structure of the dataset\n",
    "print(\"Feature matrix:\", x_train.shape) \n",
    "print(\"Target matrix:\", x_test.shape) \n",
    "print(\"Feature matrix:\", y_train.shape) \n",
    "print(\"Target matrix:\", y_test.shape) \n"
   ]
  },
  {
   "cell_type": "code",
   "execution_count": null,
   "id": "caea0ee4-e21a-4651-b991-ba9d2142c78b",
   "metadata": {},
   "outputs": [],
   "source": [
    "### Visuzualising the data \n",
    "fig, ax = plt.subplots(10, 10) \n",
    "k = 0\n",
    "for i in range(10): \n",
    "\tfor j in range(10): \n",
    "\t\tax[i][j].imshow(x_train[k].reshape(28, 28), \n",
    "\t\t\t\t\t\taspect='auto') \n",
    "\t\tk += 1\n",
    "plt.show() \n"
   ]
  }
 ],
 "metadata": {
  "kernelspec": {
   "display_name": "Python 3 (ipykernel)",
   "language": "python",
   "name": "python3"
  },
  "language_info": {
   "codemirror_mode": {
    "name": "ipython",
    "version": 3
   },
   "file_extension": ".py",
   "mimetype": "text/x-python",
   "name": "python",
   "nbconvert_exporter": "python",
   "pygments_lexer": "ipython3",
   "version": "3.12.4"
  }
 },
 "nbformat": 4,
 "nbformat_minor": 5
}
